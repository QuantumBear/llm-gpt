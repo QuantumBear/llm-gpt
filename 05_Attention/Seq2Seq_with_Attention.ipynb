{
  "cells": [
    {
      "cell_type": "code",
      "execution_count": 1,
      "id": "c7035945",
      "metadata": {
        "id": "c7035945",
        "outputId": "615e273a-c120-4c37-81c5-df62034f19de",
        "colab": {
          "base_uri": "https://localhost:8080/"
        }
      },
      "outputs": [
        {
          "output_type": "stream",
          "name": "stdout",
          "text": [
            " 句子数量： 5\n",
            " 中文词汇表大小： 18\n",
            " 英文词汇表大小： 20\n",
            " 中文词汇到索引的字典： {'我': 0, '处理': 1, '自然': 2, '世界': 3, '复杂': 4, '语言': 5, '强大': 6, '改变': 7, '喜欢': 8, '非常': 9, '小冰': 10, '咖哥': 11, '爱': 12, '很': 13, '人工智能': 14, '神经网络': 15, '深度学习': 16, '学习': 17}\n",
            " 英文词汇到索引的字典： {'I': 0, 'changed': 1, 'love': 2, 'world': 3, 'so': 4, 'DL': 5, 'likes': 6, 'complex': 7, 'the': 8, 'are': 9, 'studying': 10, 'AI': 11, 'powerful': 12, '<sos>': 13, '<eos>': 14, 'XiaoBing': 15, 'is': 16, 'Neural-Nets': 17, 'NLP': 18, 'KaGe': 19}\n"
          ]
        }
      ],
      "source": [
        "# 构建语料库，每行包含中文、英文（解码器输入）和翻译成英文后的目标输出 3 个句子\n",
        "sentences = [\n",
        "    ['咖哥 喜欢 小冰', '<sos> KaGe likes XiaoBing', 'KaGe likes XiaoBing <eos>'],\n",
        "    ['我 爱 学习 人工智能', '<sos> I love studying AI', 'I love studying AI <eos>'],\n",
        "    ['深度学习 改变 世界', '<sos> DL changed the world', 'DL changed the world <eos>'],\n",
        "    ['自然 语言 处理 很 强大', '<sos> NLP is so powerful', 'NLP is so powerful <eos>'],\n",
        "    ['神经网络 非常 复杂', '<sos> Neural-Nets are complex', 'Neural-Nets are complex <eos>']]\n",
        "word_list_cn, word_list_en = [], []  # 初始化中英文词汇表\n",
        "# 遍历每一个句子并将单词添加到词汇表中\n",
        "for s in sentences:\n",
        "    word_list_cn.extend(s[0].split())\n",
        "    word_list_en.extend(s[1].split())\n",
        "    word_list_en.extend(s[2].split())\n",
        "# 去重，得到没有重复单词的词汇表\n",
        "word_list_cn = list(set(word_list_cn))\n",
        "word_list_en = list(set(word_list_en))\n",
        "# 构建单词到索引的映射\n",
        "word2idx_cn = {w: i for i, w in enumerate(word_list_cn)}\n",
        "word2idx_en = {w: i for i, w in enumerate(word_list_en)}\n",
        "# 构建索引到单词的映射\n",
        "idx2word_cn = {i: w for i, w in enumerate(word_list_cn)}\n",
        "idx2word_en = {i: w for i, w in enumerate(word_list_en)}\n",
        "# 计算词汇表的大小\n",
        "voc_size_cn = len(word_list_cn)\n",
        "voc_size_en = len(word_list_en)\n",
        "print(\" 句子数量：\", len(sentences)) # 打印句子数\n",
        "print(\" 中文词汇表大小：\", voc_size_cn) # 打印中文词汇表大小\n",
        "print(\" 英文词汇表大小：\", voc_size_en) # 打印英文词汇表大小\n",
        "print(\" 中文词汇到索引的字典：\", word2idx_cn) # 打印中文词汇到索引的字典\n",
        "print(\" 英文词汇到索引的字典：\", word2idx_en) # 打印英文词汇到索引的字典"
      ]
    },
    {
      "cell_type": "code",
      "execution_count": 2,
      "id": "977bf0e7",
      "metadata": {
        "id": "977bf0e7",
        "outputId": "448b15b7-990e-40f5-8128-75fb8f9a3298",
        "colab": {
          "base_uri": "https://localhost:8080/"
        }
      },
      "outputs": [
        {
          "output_type": "stream",
          "name": "stdout",
          "text": [
            " 原始句子： ['我 爱 学习 人工智能', '<sos> I love studying AI', 'I love studying AI <eos>']\n",
            " 编码器输入张量的形状： torch.Size([1, 4])\n",
            " 解码器输入张量的形状： torch.Size([1, 5])\n",
            " 目标张量的形状： torch.Size([1, 5])\n",
            " 编码器输入张量： tensor([[ 0, 12, 17, 14]])\n",
            " 解码器输入张量： tensor([[13,  0,  2, 10, 11]])\n",
            " 目标张量： tensor([[ 0,  2, 10, 11, 14]])\n"
          ]
        }
      ],
      "source": [
        "import numpy as np # 导入 numpy\n",
        "import torch # 导入 torch\n",
        "import random # 导入 random 库\n",
        "# 定义一个函数，随机选择一个句子和词汇表生成输入、输出和目标数据\n",
        "def make_data(sentences):\n",
        "    # 随机选择一个句子进行训练\n",
        "    random_sentence = random.choice(sentences)\n",
        "    # 将输入句子中的单词转换为对应的索引\n",
        "    encoder_input = np.array([[word2idx_cn[n] for n in random_sentence[0].split()]])\n",
        "    # 将输出句子中的单词转换为对应的索引\n",
        "    decoder_input = np.array([[word2idx_en[n] for n in random_sentence[1].split()]])\n",
        "    # 将目标句子中的单词转换为对应的索引\n",
        "    target = np.array([[word2idx_en[n] for n in random_sentence[2].split()]])\n",
        "    # 将输入、输出和目标批次转换为 LongTensor\n",
        "    encoder_input = torch.LongTensor(encoder_input)\n",
        "    decoder_input = torch.LongTensor(decoder_input)\n",
        "    target = torch.LongTensor(target)\n",
        "    return encoder_input, decoder_input, target\n",
        "# 使用 make_data 函数生成输入、输出和目标张量\n",
        "encoder_input, decoder_input, target = make_data(sentences)\n",
        "for s in sentences: # 获取原始句子\n",
        "    if all([word2idx_cn[w] in encoder_input[0] for w in s[0].split()]):\n",
        "        original_sentence = s\n",
        "        break\n",
        "print(\" 原始句子：\", original_sentence) # 打印原始句子\n",
        "print(\" 编码器输入张量的形状：\", encoder_input.shape)  # 打印输入张量形状\n",
        "print(\" 解码器输入张量的形状：\", decoder_input.shape) # 打印输出张量形状\n",
        "print(\" 目标张量的形状：\", target.shape) # 打印目标张量形状\n",
        "print(\" 编码器输入张量：\", encoder_input) # 打印输入张量\n",
        "print(\" 解码器输入张量：\", decoder_input) # 打印输出张量\n",
        "print(\" 目标张量：\", target) # 打印目标张量"
      ]
    },
    {
      "cell_type": "code",
      "execution_count": 3,
      "id": "d44611b2",
      "metadata": {
        "id": "d44611b2"
      },
      "outputs": [],
      "source": [
        "# 定义 Attention 类\n",
        "import torch.nn as nn # 导入 torch.nn 库\n",
        "class Attention(nn.Module):\n",
        "    def __init__(self):\n",
        "        super(Attention, self).__init__()\n",
        "    def forward(self, decoder_context, encoder_context):\n",
        "        # 计算 decoder_context 和 encoder_context 的点积，得到注意力分数\n",
        "        scores = torch.matmul(decoder_context, encoder_context.transpose(-2, -1))\n",
        "        # 归一化分数\n",
        "        attn_weights = nn.functional.softmax(scores, dim=-1)\n",
        "        # 将注意力权重乘以 encoder_context，得到加权的上下文向量\n",
        "        context = torch.matmul(attn_weights, encoder_context)\n",
        "        return context, attn_weights"
      ]
    },
    {
      "cell_type": "code",
      "execution_count": 14,
      "id": "192a6f29",
      "metadata": {
        "id": "192a6f29",
        "outputId": "9660f770-7fe2-48d3-c29a-0f6e1b9ed146",
        "colab": {
          "base_uri": "https://localhost:8080/"
        }
      },
      "outputs": [
        {
          "output_type": "stream",
          "name": "stdout",
          "text": [
            " 编码器结构： Encoder(\n",
            "  (embedding): Embedding(18, 128)\n",
            "  (rnn): RNN(128, 128, batch_first=True)\n",
            ")\n",
            " 解码器结构： DecoderWithAttention(\n",
            "  (embedding): Embedding(20, 128)\n",
            "  (rnn): RNN(256, 128, batch_first=True)\n",
            "  (attention): Attention()\n",
            "  (out): Linear(in_features=128, out_features=20, bias=True)\n",
            ")\n"
          ]
        }
      ],
      "source": [
        "import torch.nn as nn # 导入 torch.nn 库\n",
        "# 定义编码器类\n",
        "class Encoder(nn.Module):\n",
        "    def __init__(self, input_size, hidden_size):\n",
        "        super(Encoder, self).__init__()\n",
        "        self.hidden_size = hidden_size # 设置隐藏层大小\n",
        "        self.embedding = nn.Embedding(input_size, hidden_size) # 创建词嵌入层\n",
        "        self.rnn = nn.RNN(hidden_size, hidden_size, batch_first=True) # 创建 RNN 层\n",
        "    def forward(self, inputs, hidden): # 前向传播函数\n",
        "        embedded = self.embedding(inputs) # 将输入转换为嵌入向量\n",
        "        output, hidden = self.rnn(embedded, hidden) # 将嵌入向量输入 RNN 层并获取输出\n",
        "        return output, hidden\n",
        "# 定义解码器类\n",
        "class DecoderWithAttention(nn.Module):\n",
        "    def __init__(self, hidden_size, output_size):\n",
        "        super(DecoderWithAttention, self).__init__()\n",
        "        self.hidden_size = hidden_size # 设置隐藏层大小\n",
        "        self.embedding = nn.Embedding(output_size, hidden_size) # 创建词嵌入层\n",
        "        self.rnn = nn.RNN(2 * hidden_size, hidden_size, batch_first=True) # 创建 RNN 层\n",
        "        self.attention = Attention()  # 创建注意力层\n",
        "        self.out = nn.Linear(hidden_size, output_size)  # 修改线性输出层，考虑隐藏状态和上下文向量\n",
        "    def forward(self, dec_input, hidden, enc_output):\n",
        "        embedded = self.embedding(dec_input)  # 将输入转换为嵌入向量\n",
        "        context, attn_weights = self.attention(embedded, enc_output)  # 计算注意力上下文向量\n",
        "        rnn_input = torch.cat((embedded, context), dim=-1) # 将上下文向量与嵌入向量拼接\n",
        "        rnn_output, hidden = self.rnn(rnn_input, hidden)  # 将嵌入向量输入 RNN 层并获取输出\n",
        "        dec_output = self.out(rnn_output)  # 使用线性层生成最终输出\n",
        "        return dec_output, hidden, attn_weights\n",
        "n_hidden = 128 # 设置隐藏层数量\n",
        "# 创建编码器和解码器\n",
        "encoder = Encoder(voc_size_cn, n_hidden)\n",
        "decoder = DecoderWithAttention(n_hidden, voc_size_en)\n",
        "print(' 编码器结构：', encoder)  # 打印编码器的结构\n",
        "print(' 解码器结构：', decoder)  # 打印解码器的结构"
      ]
    },
    {
      "cell_type": "code",
      "execution_count": 15,
      "id": "60b14dc9",
      "metadata": {
        "id": "60b14dc9",
        "outputId": "1084284e-742c-4877-f7e9-6e38d2114bbc",
        "colab": {
          "base_uri": "https://localhost:8080/"
        }
      },
      "outputs": [
        {
          "output_type": "stream",
          "name": "stdout",
          "text": [
            "S2S 模型结构： Seq2Seq(\n",
            "  (encoder): Encoder(\n",
            "    (embedding): Embedding(18, 128)\n",
            "    (rnn): RNN(128, 128, batch_first=True)\n",
            "  )\n",
            "  (decoder): DecoderWithAttention(\n",
            "    (embedding): Embedding(20, 128)\n",
            "    (rnn): RNN(256, 128, batch_first=True)\n",
            "    (attention): Attention()\n",
            "    (out): Linear(in_features=128, out_features=20, bias=True)\n",
            "  )\n",
            ")\n"
          ]
        }
      ],
      "source": [
        "# 定义 Seq2Seq 类\n",
        "class Seq2Seq(nn.Module):\n",
        "    def __init__(self, encoder, decoder):\n",
        "        super(Seq2Seq, self).__init__()\n",
        "        # 初始化编码器和解码器\n",
        "        self.encoder = encoder\n",
        "        self.decoder = decoder\n",
        "    def forward(self, encoder_input, hidden, decoder_input):\n",
        "        # 将输入序列通过编码器并获取输出和隐藏状态\n",
        "        encoder_output, encoder_hidden = self.encoder(encoder_input, hidden)\n",
        "        # 将编码器的隐藏状态传递给解码器作为初始隐藏状态\n",
        "        decoder_hidden = encoder_hidden\n",
        "        # 将目标序列通过解码器并获取输出 -  此处更新解码器调用\n",
        "        decoder_output, _, attn_weights = self.decoder(decoder_input, decoder_hidden, encoder_output)\n",
        "        return decoder_output, attn_weights\n",
        "# 创建 Seq2Seq 模型\n",
        "model = Seq2Seq(encoder, decoder)\n",
        "print('S2S 模型结构：', model)  # 打印模型的结构"
      ]
    },
    {
      "cell_type": "code",
      "execution_count": 16,
      "id": "c8bedb08",
      "metadata": {
        "id": "c8bedb08",
        "outputId": "c7a6966d-fc1c-45b5-e21e-63d0e1cf64f3",
        "colab": {
          "base_uri": "https://localhost:8080/"
        }
      },
      "outputs": [
        {
          "output_type": "stream",
          "name": "stdout",
          "text": [
            "Epoch: 0040 cost = 0.340447\n",
            "Epoch: 0080 cost = 0.052442\n",
            "Epoch: 0120 cost = 0.030803\n",
            "Epoch: 0160 cost = 0.024110\n",
            "Epoch: 0200 cost = 0.014052\n",
            "Epoch: 0240 cost = 0.017011\n",
            "Epoch: 0280 cost = 0.011256\n",
            "Epoch: 0320 cost = 0.008868\n",
            "Epoch: 0360 cost = 0.008302\n",
            "Epoch: 0400 cost = 0.005445\n"
          ]
        }
      ],
      "source": [
        "# 定义训练函数\n",
        "def train_seq2seq(model, criterion, optimizer, epochs):\n",
        "    for epoch in range(epochs):\n",
        "       encoder_input, decoder_input, target = make_data(sentences) # 训练数据的创建\n",
        "       hidden = torch.zeros(1, encoder_input.size(0), n_hidden) # 初始化隐藏状态\n",
        "       optimizer.zero_grad()# 梯度清零\n",
        "       output, _ = model(encoder_input, hidden, decoder_input) # 获取模型输出\n",
        "       loss = criterion(output.view(-1, voc_size_en), target.view(-1)) # 计算损失\n",
        "       if (epoch + 1) % 40 == 0: # 打印损失\n",
        "          print(f\"Epoch: {epoch + 1:04d} cost = {loss:.6f}\")\n",
        "       loss.backward()# 反向传播\n",
        "       optimizer.step()# 更新参数\n",
        "# 训练模型\n",
        "epochs = 400 # 训练轮次\n",
        "criterion = nn.CrossEntropyLoss() # 损失函数\n",
        "optimizer = torch.optim.Adam(model.parameters(), lr=0.001) # 优化器\n",
        "train_seq2seq(model, criterion, optimizer, epochs) # 调用函数训练模型"
      ]
    },
    {
      "cell_type": "code",
      "execution_count": 17,
      "id": "d4f34f51",
      "metadata": {
        "id": "d4f34f51"
      },
      "outputs": [],
      "source": [
        "import matplotlib.pyplot as plt # 导入 matplotlib\n",
        "import seaborn as sns # 导入 seaborn\n",
        "plt.rcParams[\"font.family\"]=['SimHei'] # 用来设定字体样式\n",
        "plt.rcParams['font.sans-serif']=['SimHei'] # 用来设定无衬线字体样式\n",
        "plt.rcParams['axes.unicode_minus']=False #  用 来 正 常 显 示 负 号\n",
        "def  visualize_attention(source_sentence, predicted_sentence, attn_weights):\n",
        "    plt.figure(figsize=(10, 10)) # 画布\n",
        "    ax = sns.heatmap(attn_weights, annot=True, cbar=False,\n",
        "                     xticklabels=source_sentence.split(),\n",
        "                     yticklabels=predicted_sentence, cmap=\"Greens\") # 热力图\n",
        "    plt.xlabel(\" 源序列 \")\n",
        "    plt.ylabel(\" 目标序列 \")\n",
        "    plt.show() # 显示图片"
      ]
    },
    {
      "cell_type": "code",
      "execution_count": 18,
      "id": "2a5e9871",
      "metadata": {
        "id": "2a5e9871",
        "outputId": "0c2df3f7-d462-4bc1-ba45-28b4a288e018",
        "colab": {
          "base_uri": "https://localhost:8080/",
          "height": 1000
        }
      },
      "outputs": [
        {
          "output_type": "stream",
          "name": "stdout",
          "text": [
            "咖哥 喜欢 小冰 -> ['KaGe', 'likes', '<eos>']\n"
          ]
        },
        {
          "output_type": "stream",
          "name": "stderr",
          "text": [
            "WARNING:matplotlib.font_manager:findfont: Font family 'SimHei' not found.\n",
            "WARNING:matplotlib.font_manager:findfont: Font family 'SimHei' not found.\n",
            "/usr/local/lib/python3.11/dist-packages/seaborn/utils.py:61: UserWarning: Glyph 21654 (\\N{CJK UNIFIED IDEOGRAPH-5496}) missing from font(s) DejaVu Sans.\n",
            "  fig.canvas.draw()\n",
            "/usr/local/lib/python3.11/dist-packages/seaborn/utils.py:61: UserWarning: Glyph 21733 (\\N{CJK UNIFIED IDEOGRAPH-54E5}) missing from font(s) DejaVu Sans.\n",
            "  fig.canvas.draw()\n",
            "WARNING:matplotlib.font_manager:findfont: Font family 'SimHei' not found.\n",
            "/usr/local/lib/python3.11/dist-packages/seaborn/utils.py:61: UserWarning: Glyph 21916 (\\N{CJK UNIFIED IDEOGRAPH-559C}) missing from font(s) DejaVu Sans.\n",
            "  fig.canvas.draw()\n",
            "/usr/local/lib/python3.11/dist-packages/seaborn/utils.py:61: UserWarning: Glyph 27426 (\\N{CJK UNIFIED IDEOGRAPH-6B22}) missing from font(s) DejaVu Sans.\n",
            "  fig.canvas.draw()\n",
            "WARNING:matplotlib.font_manager:findfont: Font family 'SimHei' not found.\n",
            "/usr/local/lib/python3.11/dist-packages/seaborn/utils.py:61: UserWarning: Glyph 23567 (\\N{CJK UNIFIED IDEOGRAPH-5C0F}) missing from font(s) DejaVu Sans.\n",
            "  fig.canvas.draw()\n",
            "/usr/local/lib/python3.11/dist-packages/seaborn/utils.py:61: UserWarning: Glyph 20912 (\\N{CJK UNIFIED IDEOGRAPH-51B0}) missing from font(s) DejaVu Sans.\n",
            "  fig.canvas.draw()\n",
            "WARNING:matplotlib.font_manager:findfont: Font family 'SimHei' not found.\n",
            "WARNING:matplotlib.font_manager:findfont: Font family 'SimHei' not found.\n",
            "WARNING:matplotlib.font_manager:findfont: Font family 'SimHei' not found.\n",
            "WARNING:matplotlib.font_manager:findfont: Font family 'SimHei' not found.\n",
            "WARNING:matplotlib.font_manager:findfont: Font family 'SimHei' not found.\n",
            "WARNING:matplotlib.font_manager:findfont: Font family 'SimHei' not found.\n",
            "WARNING:matplotlib.font_manager:findfont: Font family 'SimHei' not found.\n",
            "WARNING:matplotlib.font_manager:findfont: Font family 'SimHei' not found.\n",
            "WARNING:matplotlib.font_manager:findfont: Font family 'SimHei' not found.\n",
            "WARNING:matplotlib.font_manager:findfont: Font family 'SimHei' not found.\n",
            "/usr/local/lib/python3.11/dist-packages/IPython/core/pylabtools.py:151: UserWarning: Glyph 28304 (\\N{CJK UNIFIED IDEOGRAPH-6E90}) missing from font(s) DejaVu Sans.\n",
            "  fig.canvas.print_figure(bytes_io, **kw)\n",
            "/usr/local/lib/python3.11/dist-packages/IPython/core/pylabtools.py:151: UserWarning: Glyph 24207 (\\N{CJK UNIFIED IDEOGRAPH-5E8F}) missing from font(s) DejaVu Sans.\n",
            "  fig.canvas.print_figure(bytes_io, **kw)\n",
            "/usr/local/lib/python3.11/dist-packages/IPython/core/pylabtools.py:151: UserWarning: Glyph 21015 (\\N{CJK UNIFIED IDEOGRAPH-5217}) missing from font(s) DejaVu Sans.\n",
            "  fig.canvas.print_figure(bytes_io, **kw)\n",
            "WARNING:matplotlib.font_manager:findfont: Font family 'SimHei' not found.\n",
            "/usr/local/lib/python3.11/dist-packages/IPython/core/pylabtools.py:151: UserWarning: Glyph 30446 (\\N{CJK UNIFIED IDEOGRAPH-76EE}) missing from font(s) DejaVu Sans.\n",
            "  fig.canvas.print_figure(bytes_io, **kw)\n",
            "/usr/local/lib/python3.11/dist-packages/IPython/core/pylabtools.py:151: UserWarning: Glyph 26631 (\\N{CJK UNIFIED IDEOGRAPH-6807}) missing from font(s) DejaVu Sans.\n",
            "  fig.canvas.print_figure(bytes_io, **kw)\n",
            "WARNING:matplotlib.font_manager:findfont: Font family 'SimHei' not found.\n",
            "WARNING:matplotlib.font_manager:findfont: Font family 'SimHei' not found.\n",
            "WARNING:matplotlib.font_manager:findfont: Font family 'SimHei' not found.\n",
            "WARNING:matplotlib.font_manager:findfont: Font family 'SimHei' not found.\n",
            "WARNING:matplotlib.font_manager:findfont: Font family 'SimHei' not found.\n",
            "WARNING:matplotlib.font_manager:findfont: Font family 'SimHei' not found.\n",
            "WARNING:matplotlib.font_manager:findfont: Font family 'SimHei' not found.\n",
            "WARNING:matplotlib.font_manager:findfont: Font family 'SimHei' not found.\n",
            "/usr/local/lib/python3.11/dist-packages/IPython/core/pylabtools.py:151: UserWarning: Glyph 21654 (\\N{CJK UNIFIED IDEOGRAPH-5496}) missing from font(s) DejaVu Sans.\n",
            "  fig.canvas.print_figure(bytes_io, **kw)\n",
            "/usr/local/lib/python3.11/dist-packages/IPython/core/pylabtools.py:151: UserWarning: Glyph 21733 (\\N{CJK UNIFIED IDEOGRAPH-54E5}) missing from font(s) DejaVu Sans.\n",
            "  fig.canvas.print_figure(bytes_io, **kw)\n",
            "WARNING:matplotlib.font_manager:findfont: Font family 'SimHei' not found.\n",
            "/usr/local/lib/python3.11/dist-packages/IPython/core/pylabtools.py:151: UserWarning: Glyph 21916 (\\N{CJK UNIFIED IDEOGRAPH-559C}) missing from font(s) DejaVu Sans.\n",
            "  fig.canvas.print_figure(bytes_io, **kw)\n",
            "/usr/local/lib/python3.11/dist-packages/IPython/core/pylabtools.py:151: UserWarning: Glyph 27426 (\\N{CJK UNIFIED IDEOGRAPH-6B22}) missing from font(s) DejaVu Sans.\n",
            "  fig.canvas.print_figure(bytes_io, **kw)\n",
            "WARNING:matplotlib.font_manager:findfont: Font family 'SimHei' not found.\n",
            "/usr/local/lib/python3.11/dist-packages/IPython/core/pylabtools.py:151: UserWarning: Glyph 23567 (\\N{CJK UNIFIED IDEOGRAPH-5C0F}) missing from font(s) DejaVu Sans.\n",
            "  fig.canvas.print_figure(bytes_io, **kw)\n",
            "/usr/local/lib/python3.11/dist-packages/IPython/core/pylabtools.py:151: UserWarning: Glyph 20912 (\\N{CJK UNIFIED IDEOGRAPH-51B0}) missing from font(s) DejaVu Sans.\n",
            "  fig.canvas.print_figure(bytes_io, **kw)\n",
            "WARNING:matplotlib.font_manager:findfont: Font family 'SimHei' not found.\n",
            "WARNING:matplotlib.font_manager:findfont: Font family 'SimHei' not found.\n",
            "WARNING:matplotlib.font_manager:findfont: Font family 'SimHei' not found.\n",
            "WARNING:matplotlib.font_manager:findfont: Font family 'SimHei' not found.\n",
            "WARNING:matplotlib.font_manager:findfont: Font family 'SimHei' not found.\n",
            "WARNING:matplotlib.font_manager:findfont: Font family 'SimHei' not found.\n",
            "WARNING:matplotlib.font_manager:findfont: Font family 'SimHei' not found.\n",
            "WARNING:matplotlib.font_manager:findfont: Font family 'SimHei' not found.\n",
            "WARNING:matplotlib.font_manager:findfont: Font family 'SimHei' not found.\n",
            "WARNING:matplotlib.font_manager:findfont: Font family 'SimHei' not found.\n",
            "WARNING:matplotlib.font_manager:findfont: Font family 'SimHei' not found.\n",
            "WARNING:matplotlib.font_manager:findfont: Font family 'SimHei' not found.\n",
            "WARNING:matplotlib.font_manager:findfont: Font family 'SimHei' not found.\n",
            "WARNING:matplotlib.font_manager:findfont: Font family 'SimHei' not found.\n",
            "WARNING:matplotlib.font_manager:findfont: Font family 'SimHei' not found.\n",
            "WARNING:matplotlib.font_manager:findfont: Font family 'SimHei' not found.\n",
            "WARNING:matplotlib.font_manager:findfont: Font family 'SimHei' not found.\n",
            "WARNING:matplotlib.font_manager:findfont: Font family 'SimHei' not found.\n",
            "WARNING:matplotlib.font_manager:findfont: Font family 'SimHei' not found.\n",
            "WARNING:matplotlib.font_manager:findfont: Font family 'SimHei' not found.\n",
            "WARNING:matplotlib.font_manager:findfont: Font family 'SimHei' not found.\n",
            "WARNING:matplotlib.font_manager:findfont: Font family 'SimHei' not found.\n",
            "WARNING:matplotlib.font_manager:findfont: Font family 'SimHei' not found.\n",
            "WARNING:matplotlib.font_manager:findfont: Font family 'SimHei' not found.\n",
            "WARNING:matplotlib.font_manager:findfont: Font family 'SimHei' not found.\n",
            "WARNING:matplotlib.font_manager:findfont: Font family 'SimHei' not found.\n",
            "WARNING:matplotlib.font_manager:findfont: Font family 'SimHei' not found.\n",
            "WARNING:matplotlib.font_manager:findfont: Font family 'SimHei' not found.\n"
          ]
        },
        {
          "output_type": "display_data",
          "data": {
            "text/plain": [
              "<Figure size 1000x1000 with 1 Axes>"
            ],
            "image/png": "[encoded data removed]"
          },
          "metadata": {}
        },
        {
          "output_type": "stream",
          "name": "stderr",
          "text": [
            "WARNING:matplotlib.font_manager:findfont: Font family 'SimHei' not found.\n",
            "WARNING:matplotlib.font_manager:findfont: Font family 'SimHei' not found.\n",
            "/usr/local/lib/python3.11/dist-packages/seaborn/utils.py:61: UserWarning: Glyph 33258 (\\N{CJK UNIFIED IDEOGRAPH-81EA}) missing from font(s) DejaVu Sans.\n",
            "  fig.canvas.draw()\n",
            "/usr/local/lib/python3.11/dist-packages/seaborn/utils.py:61: UserWarning: Glyph 28982 (\\N{CJK UNIFIED IDEOGRAPH-7136}) missing from font(s) DejaVu Sans.\n",
            "  fig.canvas.draw()\n",
            "WARNING:matplotlib.font_manager:findfont: Font family 'SimHei' not found.\n",
            "/usr/local/lib/python3.11/dist-packages/seaborn/utils.py:61: UserWarning: Glyph 35821 (\\N{CJK UNIFIED IDEOGRAPH-8BED}) missing from font(s) DejaVu Sans.\n",
            "  fig.canvas.draw()\n",
            "/usr/local/lib/python3.11/dist-packages/seaborn/utils.py:61: UserWarning: Glyph 35328 (\\N{CJK UNIFIED IDEOGRAPH-8A00}) missing from font(s) DejaVu Sans.\n",
            "  fig.canvas.draw()\n",
            "WARNING:matplotlib.font_manager:findfont: Font family 'SimHei' not found.\n",
            "/usr/local/lib/python3.11/dist-packages/seaborn/utils.py:61: UserWarning: Glyph 22788 (\\N{CJK UNIFIED IDEOGRAPH-5904}) missing from font(s) DejaVu Sans.\n",
            "  fig.canvas.draw()\n",
            "/usr/local/lib/python3.11/dist-packages/seaborn/utils.py:61: UserWarning: Glyph 29702 (\\N{CJK UNIFIED IDEOGRAPH-7406}) missing from font(s) DejaVu Sans.\n",
            "  fig.canvas.draw()\n",
            "WARNING:matplotlib.font_manager:findfont: Font family 'SimHei' not found.\n",
            "/usr/local/lib/python3.11/dist-packages/seaborn/utils.py:61: UserWarning: Glyph 24456 (\\N{CJK UNIFIED IDEOGRAPH-5F88}) missing from font(s) DejaVu Sans.\n",
            "  fig.canvas.draw()\n",
            "WARNING:matplotlib.font_manager:findfont: Font family 'SimHei' not found.\n",
            "/usr/local/lib/python3.11/dist-packages/seaborn/utils.py:61: UserWarning: Glyph 24378 (\\N{CJK UNIFIED IDEOGRAPH-5F3A}) missing from font(s) DejaVu Sans.\n",
            "  fig.canvas.draw()\n",
            "/usr/local/lib/python3.11/dist-packages/seaborn/utils.py:61: UserWarning: Glyph 22823 (\\N{CJK UNIFIED IDEOGRAPH-5927}) missing from font(s) DejaVu Sans.\n",
            "  fig.canvas.draw()\n",
            "WARNING:matplotlib.font_manager:findfont: Font family 'SimHei' not found.\n",
            "WARNING:matplotlib.font_manager:findfont: Font family 'SimHei' not found.\n",
            "WARNING:matplotlib.font_manager:findfont: Font family 'SimHei' not found.\n",
            "WARNING:matplotlib.font_manager:findfont: Font family 'SimHei' not found.\n",
            "WARNING:matplotlib.font_manager:findfont: Font family 'SimHei' not found.\n",
            "WARNING:matplotlib.font_manager:findfont: Font family 'SimHei' not found.\n",
            "WARNING:matplotlib.font_manager:findfont: Font family 'SimHei' not found.\n",
            "WARNING:matplotlib.font_manager:findfont: Font family 'SimHei' not found.\n",
            "WARNING:matplotlib.font_manager:findfont: Font family 'SimHei' not found.\n",
            "WARNING:matplotlib.font_manager:findfont: Font family 'SimHei' not found.\n",
            "WARNING:matplotlib.font_manager:findfont: Font family 'SimHei' not found.\n",
            "WARNING:matplotlib.font_manager:findfont: Font family 'SimHei' not found.\n",
            "WARNING:matplotlib.font_manager:findfont: Font family 'SimHei' not found.\n",
            "WARNING:matplotlib.font_manager:findfont: Font family 'SimHei' not found.\n",
            "WARNING:matplotlib.font_manager:findfont: Font family 'SimHei' not found.\n",
            "/usr/local/lib/python3.11/dist-packages/IPython/core/pylabtools.py:151: UserWarning: Glyph 28304 (\\N{CJK UNIFIED IDEOGRAPH-6E90}) missing from font(s) DejaVu Sans.\n",
            "  fig.canvas.print_figure(bytes_io, **kw)\n",
            "/usr/local/lib/python3.11/dist-packages/IPython/core/pylabtools.py:151: UserWarning: Glyph 24207 (\\N{CJK UNIFIED IDEOGRAPH-5E8F}) missing from font(s) DejaVu Sans.\n",
            "  fig.canvas.print_figure(bytes_io, **kw)\n",
            "/usr/local/lib/python3.11/dist-packages/IPython/core/pylabtools.py:151: UserWarning: Glyph 21015 (\\N{CJK UNIFIED IDEOGRAPH-5217}) missing from font(s) DejaVu Sans.\n",
            "  fig.canvas.print_figure(bytes_io, **kw)\n",
            "WARNING:matplotlib.font_manager:findfont: Font family 'SimHei' not found.\n",
            "/usr/local/lib/python3.11/dist-packages/IPython/core/pylabtools.py:151: UserWarning: Glyph 30446 (\\N{CJK UNIFIED IDEOGRAPH-76EE}) missing from font(s) DejaVu Sans.\n",
            "  fig.canvas.print_figure(bytes_io, **kw)\n",
            "/usr/local/lib/python3.11/dist-packages/IPython/core/pylabtools.py:151: UserWarning: Glyph 26631 (\\N{CJK UNIFIED IDEOGRAPH-6807}) missing from font(s) DejaVu Sans.\n",
            "  fig.canvas.print_figure(bytes_io, **kw)\n",
            "WARNING:matplotlib.font_manager:findfont: Font family 'SimHei' not found.\n",
            "WARNING:matplotlib.font_manager:findfont: Font family 'SimHei' not found.\n",
            "WARNING:matplotlib.font_manager:findfont: Font family 'SimHei' not found.\n",
            "WARNING:matplotlib.font_manager:findfont: Font family 'SimHei' not found.\n",
            "WARNING:matplotlib.font_manager:findfont: Font family 'SimHei' not found.\n",
            "WARNING:matplotlib.font_manager:findfont: Font family 'SimHei' not found.\n",
            "WARNING:matplotlib.font_manager:findfont: Font family 'SimHei' not found.\n",
            "WARNING:matplotlib.font_manager:findfont: Font family 'SimHei' not found.\n",
            "WARNING:matplotlib.font_manager:findfont: Font family 'SimHei' not found.\n",
            "WARNING:matplotlib.font_manager:findfont: Font family 'SimHei' not found.\n",
            "WARNING:matplotlib.font_manager:findfont: Font family 'SimHei' not found.\n",
            "WARNING:matplotlib.font_manager:findfont: Font family 'SimHei' not found.\n",
            "/usr/local/lib/python3.11/dist-packages/IPython/core/pylabtools.py:151: UserWarning: Glyph 33258 (\\N{CJK UNIFIED IDEOGRAPH-81EA}) missing from font(s) DejaVu Sans.\n",
            "  fig.canvas.print_figure(bytes_io, **kw)\n",
            "/usr/local/lib/python3.11/dist-packages/IPython/core/pylabtools.py:151: UserWarning: Glyph 28982 (\\N{CJK UNIFIED IDEOGRAPH-7136}) missing from font(s) DejaVu Sans.\n",
            "  fig.canvas.print_figure(bytes_io, **kw)\n",
            "WARNING:matplotlib.font_manager:findfont: Font family 'SimHei' not found.\n",
            "/usr/local/lib/python3.11/dist-packages/IPython/core/pylabtools.py:151: UserWarning: Glyph 35821 (\\N{CJK UNIFIED IDEOGRAPH-8BED}) missing from font(s) DejaVu Sans.\n",
            "  fig.canvas.print_figure(bytes_io, **kw)\n",
            "/usr/local/lib/python3.11/dist-packages/IPython/core/pylabtools.py:151: UserWarning: Glyph 35328 (\\N{CJK UNIFIED IDEOGRAPH-8A00}) missing from font(s) DejaVu Sans.\n",
            "  fig.canvas.print_figure(bytes_io, **kw)\n",
            "WARNING:matplotlib.font_manager:findfont: Font family 'SimHei' not found.\n",
            "/usr/local/lib/python3.11/dist-packages/IPython/core/pylabtools.py:151: UserWarning: Glyph 22788 (\\N{CJK UNIFIED IDEOGRAPH-5904}) missing from font(s) DejaVu Sans.\n",
            "  fig.canvas.print_figure(bytes_io, **kw)\n",
            "/usr/local/lib/python3.11/dist-packages/IPython/core/pylabtools.py:151: UserWarning: Glyph 29702 (\\N{CJK UNIFIED IDEOGRAPH-7406}) missing from font(s) DejaVu Sans.\n",
            "  fig.canvas.print_figure(bytes_io, **kw)\n",
            "WARNING:matplotlib.font_manager:findfont: Font family 'SimHei' not found.\n",
            "/usr/local/lib/python3.11/dist-packages/IPython/core/pylabtools.py:151: UserWarning: Glyph 24456 (\\N{CJK UNIFIED IDEOGRAPH-5F88}) missing from font(s) DejaVu Sans.\n",
            "  fig.canvas.print_figure(bytes_io, **kw)\n",
            "WARNING:matplotlib.font_manager:findfont: Font family 'SimHei' not found.\n",
            "/usr/local/lib/python3.11/dist-packages/IPython/core/pylabtools.py:151: UserWarning: Glyph 24378 (\\N{CJK UNIFIED IDEOGRAPH-5F3A}) missing from font(s) DejaVu Sans.\n",
            "  fig.canvas.print_figure(bytes_io, **kw)\n",
            "/usr/local/lib/python3.11/dist-packages/IPython/core/pylabtools.py:151: UserWarning: Glyph 22823 (\\N{CJK UNIFIED IDEOGRAPH-5927}) missing from font(s) DejaVu Sans.\n",
            "  fig.canvas.print_figure(bytes_io, **kw)\n",
            "WARNING:matplotlib.font_manager:findfont: Font family 'SimHei' not found.\n",
            "WARNING:matplotlib.font_manager:findfont: Font family 'SimHei' not found.\n",
            "WARNING:matplotlib.font_manager:findfont: Font family 'SimHei' not found.\n",
            "WARNING:matplotlib.font_manager:findfont: Font family 'SimHei' not found.\n",
            "WARNING:matplotlib.font_manager:findfont: Font family 'SimHei' not found.\n",
            "WARNING:matplotlib.font_manager:findfont: Font family 'SimHei' not found.\n",
            "WARNING:matplotlib.font_manager:findfont: Font family 'SimHei' not found.\n",
            "WARNING:matplotlib.font_manager:findfont: Font family 'SimHei' not found.\n",
            "WARNING:matplotlib.font_manager:findfont: Font family 'SimHei' not found.\n",
            "WARNING:matplotlib.font_manager:findfont: Font family 'SimHei' not found.\n",
            "WARNING:matplotlib.font_manager:findfont: Font family 'SimHei' not found.\n",
            "WARNING:matplotlib.font_manager:findfont: Font family 'SimHei' not found.\n"
          ]
        },
        {
          "output_type": "stream",
          "name": "stdout",
          "text": [
            "自然 语言 处理 很 强大 -> ['NLP', 'is', 'so', 'KaGe', 'KaGe']\n"
          ]
        },
        {
          "output_type": "stream",
          "name": "stderr",
          "text": [
            "WARNING:matplotlib.font_manager:findfont: Font family 'SimHei' not found.\n",
            "WARNING:matplotlib.font_manager:findfont: Font family 'SimHei' not found.\n",
            "WARNING:matplotlib.font_manager:findfont: Font family 'SimHei' not found.\n",
            "WARNING:matplotlib.font_manager:findfont: Font family 'SimHei' not found.\n",
            "WARNING:matplotlib.font_manager:findfont: Font family 'SimHei' not found.\n",
            "WARNING:matplotlib.font_manager:findfont: Font family 'SimHei' not found.\n",
            "WARNING:matplotlib.font_manager:findfont: Font family 'SimHei' not found.\n",
            "WARNING:matplotlib.font_manager:findfont: Font family 'SimHei' not found.\n",
            "WARNING:matplotlib.font_manager:findfont: Font family 'SimHei' not found.\n",
            "WARNING:matplotlib.font_manager:findfont: Font family 'SimHei' not found.\n",
            "WARNING:matplotlib.font_manager:findfont: Font family 'SimHei' not found.\n",
            "WARNING:matplotlib.font_manager:findfont: Font family 'SimHei' not found.\n",
            "WARNING:matplotlib.font_manager:findfont: Font family 'SimHei' not found.\n",
            "WARNING:matplotlib.font_manager:findfont: Font family 'SimHei' not found.\n",
            "WARNING:matplotlib.font_manager:findfont: Font family 'SimHei' not found.\n",
            "WARNING:matplotlib.font_manager:findfont: Font family 'SimHei' not found.\n",
            "WARNING:matplotlib.font_manager:findfont: Font family 'SimHei' not found.\n",
            "WARNING:matplotlib.font_manager:findfont: Font family 'SimHei' not found.\n",
            "WARNING:matplotlib.font_manager:findfont: Font family 'SimHei' not found.\n",
            "WARNING:matplotlib.font_manager:findfont: Font family 'SimHei' not found.\n",
            "WARNING:matplotlib.font_manager:findfont: Font family 'SimHei' not found.\n",
            "WARNING:matplotlib.font_manager:findfont: Font family 'SimHei' not found.\n",
            "WARNING:matplotlib.font_manager:findfont: Font family 'SimHei' not found.\n",
            "WARNING:matplotlib.font_manager:findfont: Font family 'SimHei' not found.\n",
            "WARNING:matplotlib.font_manager:findfont: Font family 'SimHei' not found.\n",
            "WARNING:matplotlib.font_manager:findfont: Font family 'SimHei' not found.\n",
            "WARNING:matplotlib.font_manager:findfont: Font family 'SimHei' not found.\n",
            "WARNING:matplotlib.font_manager:findfont: Font family 'SimHei' not found.\n",
            "WARNING:matplotlib.font_manager:findfont: Font family 'SimHei' not found.\n",
            "WARNING:matplotlib.font_manager:findfont: Font family 'SimHei' not found.\n",
            "WARNING:matplotlib.font_manager:findfont: Font family 'SimHei' not found.\n",
            "WARNING:matplotlib.font_manager:findfont: Font family 'SimHei' not found.\n",
            "WARNING:matplotlib.font_manager:findfont: Font family 'SimHei' not found.\n",
            "WARNING:matplotlib.font_manager:findfont: Font family 'SimHei' not found.\n",
            "WARNING:matplotlib.font_manager:findfont: Font family 'SimHei' not found.\n",
            "WARNING:matplotlib.font_manager:findfont: Font family 'SimHei' not found.\n",
            "WARNING:matplotlib.font_manager:findfont: Font family 'SimHei' not found.\n",
            "WARNING:matplotlib.font_manager:findfont: Font family 'SimHei' not found.\n",
            "WARNING:matplotlib.font_manager:findfont: Font family 'SimHei' not found.\n",
            "WARNING:matplotlib.font_manager:findfont: Font family 'SimHei' not found.\n",
            "WARNING:matplotlib.font_manager:findfont: Font family 'SimHei' not found.\n"
          ]
        },
        {
          "output_type": "display_data",
          "data": {
            "text/plain": [
              "<Figure size 1000x1000 with 1 Axes>"
            ],
            "image/png": "[encoded data removed]"
          },
          "metadata": {}
        }
      ],
      "source": [
        "# 定义测试函数\n",
        "def test_seq2seq(model, source_sentence):\n",
        "    # 将输入的句子转换为索引\n",
        "    encoder_input = np.array([[word2idx_cn[n] for n in source_sentence.split()]])\n",
        "    # 构建输出的句子的索引，以 '<sos>' 开始，后面跟 '<eos>'，长度与输入句子相同\n",
        "    decoder_input = np.array([word2idx_en['<sos>']] + [word2idx_en['<eos>']]*(len(encoder_input[0])-1))\n",
        "    # 转换为 LongTensor 类型\n",
        "    encoder_input = torch.LongTensor(encoder_input)\n",
        "    decoder_input = torch.LongTensor(decoder_input).unsqueeze(0) # 增加一维\n",
        "    hidden = torch.zeros(1, encoder_input.size(0), n_hidden) # 初始化隐藏状态\n",
        "    # 获取模型输出和注意力权重\n",
        "    predict, attn_weights = model(encoder_input, hidden, decoder_input)\n",
        "    predict = predict.data.max(2, keepdim=True)[1] # 获取概率最大的索引\n",
        "    # 打印输入的句子和预测的句子\n",
        "    print(source_sentence, '->', [idx2word_en[n.item()] for n in predict.squeeze()])\n",
        "    # 可视化注意力权重\n",
        "    attn_weights = attn_weights.squeeze(0).cpu().detach().numpy()\n",
        "    visualize_attention(source_sentence, [idx2word_en[n.item()] for n in predict.squeeze()], attn_weights)\n",
        "# 测试模型\n",
        "test_seq2seq(model, '咖哥 喜欢 小冰')\n",
        "test_seq2seq(model, '自然 语言 处理 很 强大')"
      ]
    },
    {
      "cell_type": "code",
      "execution_count": null,
      "id": "cd98da8a",
      "metadata": {
        "id": "cd98da8a"
      },
      "outputs": [],
      "source": []
    }
  ],
  "metadata": {
    "kernelspec": {
      "display_name": "Python 3 (ipykernel)",
      "language": "python",
      "name": "python3"
    },
    "language_info": {
      "codemirror_mode": {
        "name": "ipython",
        "version": 3
      },
      "file_extension": ".py",
      "mimetype": "text/x-python",
      "name": "python",
      "nbconvert_exporter": "python",
      "pygments_lexer": "ipython3",
      "version": "3.10.11"
    },
    "colab": {
      "provenance": []
    }
  },
  "nbformat": 4,
  "nbformat_minor": 5
}